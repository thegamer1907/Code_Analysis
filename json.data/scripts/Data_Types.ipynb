{
 "cells": [
  {
   "cell_type": "code",
   "execution_count": 31,
   "metadata": {},
   "outputs": [],
   "source": [
    "with open('2362.cpp', 'r') as myfile:\n",
    "    data=myfile.read()\n",
    "\n",
    "def fin(st,code):\n",
    "    d = re.findall(st, code)\n",
    "    return len(d)\n",
    "    "
   ]
  },
  {
   "cell_type": "code",
   "execution_count": 51,
   "metadata": {},
   "outputs": [],
   "source": [
    "import re\n",
    "usli = fin('unsigned long long int',data)\n",
    "usl = fin('unsigned long long',data) - usli\n",
    "unsi = fin('unsigned int',data)\n",
    "unsili = fin('unsigned long int',data)\n",
    "unsil = fin('unsigned long',data) - (usli + usl + unsili)\n",
    "lli = fin('long long int',data) - usli\n",
    "ll =  fin('long long',data) - (usl + usli + lli)\n",
    "li =  fin('long int',data) - (lli + usli + unsili)\n",
    "l = fin('long',data) - (2*usli + 2*usl + unsili + unsil + 2*lli + 2*ll + li)\n",
    "i =   fin('int',data) - (usli + lli + li + unsili + unsi) - fin('int main',data)\n",
    "ldb = fin('long double',data)\n",
    "db = fin('double',data) - ldb\n",
    "fl = fin('float',data)\n",
    "char = fin('char',data)\n",
    "string = fin('string',data)\n",
    "sc = fin('scanf',data)\n",
    "pr = fin('printf',data)\n",
    "cin = fin('cin',data)\n",
    "cout = fin('cout',data)\n",
    "defi = len([x.start() for x in re.finditer('#define', data)])\n",
    "typed = len([x.start() for x in re.finditer('typedef', data)])\n",
    "prag = fin('#pragma',data)\n",
    "fast = fin('ios_base',data)"
   ]
  },
  {
   "cell_type": "code",
   "execution_count": null,
   "metadata": {},
   "outputs": [],
   "source": []
  },
  {
   "cell_type": "code",
   "execution_count": null,
   "metadata": {},
   "outputs": [],
   "source": []
  }
 ],
 "metadata": {
  "kernelspec": {
   "display_name": "Python 3",
   "language": "python",
   "name": "python3"
  },
  "language_info": {
   "codemirror_mode": {
    "name": "ipython",
    "version": 3
   },
   "file_extension": ".py",
   "mimetype": "text/x-python",
   "name": "python",
   "nbconvert_exporter": "python",
   "pygments_lexer": "ipython3",
   "version": "3.7.1"
  }
 },
 "nbformat": 4,
 "nbformat_minor": 2
}
