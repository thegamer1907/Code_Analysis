{
 "cells": [
  {
   "cell_type": "code",
   "execution_count": 18,
   "metadata": {},
   "outputs": [],
   "source": [
    "import glob\n",
    "import lizard\n",
    "import json\n",
    "import csv\n",
    "import os\n",
    "import re\n",
    "from os import path\n",
    "from comment_remover import comment_remover\n"
   ]
  },
  {
   "cell_type": "code",
   "execution_count": 19,
   "metadata": {},
   "outputs": [
    {
     "name": "stdout",
     "output_type": "stream",
     "text": [
      "1 2362.cpp\n",
      "2 996.cpp\n"
     ]
    }
   ],
   "source": [
    "cnt = 0\n",
    "lenn = 0\n",
    "\n",
    "for file in glob.glob(\"*.cpp\"):\n",
    "    lenn = lenn + 1\n",
    "\n",
    "with open(\"out_operators.json\", mode) as file_handler:\n",
    "    file_handler.write(\"[\")\n",
    "    ct = 1\n",
    "    for file in glob.glob(\"*.cpp\"):\n",
    "        cnt = cnt + 1\n",
    "        print(cnt, file)\n",
    "\n",
    "        d = {}\n",
    "        d[\"filename\"] = file\n",
    "\n",
    "\n",
    "        with open(file, 'r') as f:\n",
    "            #f.sub('//.*?\\n|/\\*.*?\\*/', '', text, flags=re.S)\n",
    "            code = comment_remover(f.read())\n",
    "            d[\"operators\"] = code.count('+') + code.count('-') + code.count('*') + code.count('/')\n",
    "            noOfAnd = code.count('&&') + code.count(' and ')\n",
    "            noOfOr = code.count('||') + code.count(' or ')\n",
    "            noOfNot = code.count('!')\n",
    "            noOfBAnd = code.count('&') - (code.count('&&')*2)\n",
    "            noOfBOr = code.count('|') - (code.count('||')*2)\n",
    "            d[\"boolean_operators\"] = noOfAnd + noOfOr\n",
    "            d[\"binary_operators\"] = noOfBAnd + noOfBOr + noOfNot\n",
    "            #d[\"comparisons\"] = (code.count('<') - (2*code.count('<<')) + code.count('>') - (2*code.count('>>')) + code.count('=='))\n",
    "\n",
    "        item = json.dumps(d, ensure_ascii=False)\n",
    "        # print(jsonob)\n",
    "        try:\n",
    "            if cnt < lenn:\n",
    "                file_handler.write(\"{},\\n\".format(item))\n",
    "            else:\n",
    "                file_handler.write(\"{}\\n\".format(item))\n",
    "        except:\n",
    "            exit(-1)\n",
    "    file_handler.write(\"]\")\n"
   ]
  },
  {
   "cell_type": "code",
   "execution_count": null,
   "metadata": {},
   "outputs": [],
   "source": []
  }
 ],
 "metadata": {
  "kernelspec": {
   "display_name": "Python 3",
   "language": "python",
   "name": "python3"
  },
  "language_info": {
   "codemirror_mode": {
    "name": "ipython",
    "version": 3
   },
   "file_extension": ".py",
   "mimetype": "text/x-python",
   "name": "python",
   "nbconvert_exporter": "python",
   "pygments_lexer": "ipython3",
   "version": "3.6.7"
  }
 },
 "nbformat": 4,
 "nbformat_minor": 2
}
