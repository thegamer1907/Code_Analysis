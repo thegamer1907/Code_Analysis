{
 "cells": [
  {
   "cell_type": "code",
   "execution_count": 1,
   "metadata": {},
   "outputs": [],
   "source": [
    "import glob\n",
    "import lizard\n",
    "import json\n",
    "import csv\n",
    "import os\n",
    "import re\n",
    "from os import path\n",
    "from prep_for_headers import prep\n",
    "from prep_for_headers import prep_for_macros\n",
    "from getusefullheaders import find_all_used_header \n",
    "from comment_remover import comment_remover"
   ]
  },
  {
   "cell_type": "code",
   "execution_count": 2,
   "metadata": {},
   "outputs": [
    {
     "name": "stdout",
     "output_type": "stream",
     "text": [
      "1 996.cpp\n",
      "['fr', 'sc', 'mp', 'pb', 'll', 'LEFT(a)', 'RIGHT(a)', 'MID(a,b)', 'MAX(a,b)', 'MIN(a,b)']\n",
      "[26, 44, 63, 85, 107, 129, 155, 187, 216, 252]\n",
      "{'fr': 0, 'sc': 0, 'mp': 0, 'pb': 0, 'll': 1, 'LEFT(a)': 0, 'RIGHT(a)': 0, 'MID(a,b)': 0, 'MAX(a,b)': 0, 'MIN(a,b)': 0}\n"
     ]
    }
   ],
   "source": [
    "cnt = 0\n",
    "lenn = 0\n",
    "\n",
    "\n",
    "for file in glob.glob(\"*.cpp\"):\n",
    "    lenn = lenn + 1\n",
    "\n",
    "with open(\"out.json\", 'w') as file_handler:\n",
    "    file_handler.write(\"[\")\n",
    "    ct = 1\n",
    "    for file in glob.glob(\"*.cpp\"):\n",
    "        cnt = cnt + 1\n",
    "        print(cnt, file)\n",
    "        i = lizard.analyze_file(file)\n",
    "        ob = i.__dict__\n",
    "        if len(ob['function_list']) == 0:\n",
    "            continue\n",
    "        #print (i.function_list[0].__dict__)\n",
    "        json_data=open('./' + file.partition(\".\")[0] + '.json')\n",
    "        data = json.load(json_data)\n",
    "        json_data.close()\n",
    "        d = {}\n",
    "        d[\"filename\"] = ob['filename']\n",
    "        d[\"nloc\"] = ob['nloc']\n",
    "        d[\"token_count\"] = ob['token_count']\n",
    "        d[\"problem\"] = data['problemlink']\n",
    "        d[\"solution\"] = data['sollink']\n",
    "        d[\"exec_time\"] = ' '.join(data['exec_time'].split())\n",
    "        d[\"memory\"] = ' '.join(data['memory'].split())\n",
    "        d[\"usertype\"] = data[\"usertype\"]\n",
    "        \n",
    "        d[\"function_count\"] = len(ob['function_list'])\n",
    "        c = 0\n",
    "        mc = 0\n",
    "        used_headers = 0\n",
    "        used_macros = 0;\n",
    "        with open(file, 'r') as f:\n",
    "            #f.sub('//.*?\\n|/\\*.*?\\*/', '', text, flags=re.S)\n",
    "            #print(f.read())\n",
    "            f = comment_remover(f.read())\n",
    "\n",
    "            header_list = prep(f)\n",
    "            #print(header_list)\n",
    "            macro_list = prep_for_macros(f)\n",
    "            x = find_all_used_header(f,header_list[0],header_list[1])\n",
    "            #print(x)\n",
    "            if len(macro_list[0]) > 0:\n",
    "                print(macro_list[0])\n",
    "                print(macro_list[1])\n",
    "                macrox = find_all_used_header(f,macro_list[0],macro_list[1])\n",
    "                print(macrox)\n",
    "                for key, val in macrox.items():\n",
    "                    if val == 1:\n",
    "                        used_macros += 1\n",
    "            \n",
    "            for key, val in x.items():\n",
    "                if val == 1:\n",
    "                    used_headers += 1\n",
    "            \n",
    "            for line in f.split('\\n'):\n",
    "                #line = line.strip()\n",
    "                if '#include' in line:\n",
    "                    #print(line)\n",
    "                    c+=1\n",
    "                if '#define' in line or 'typedef' in line:\n",
    "                    #print(line)\n",
    "                    mc+=1\n",
    "        #Take c value here\n",
    "        d[\"library_count\"] = c\n",
    "        d[\"used_headers\"] = used_headers\n",
    "        #print(mc)\n",
    "        d[\"macro_count\"] = mc\n",
    "        d[\"used_macros\"] = used_macros\n",
    "        c = 0\n",
    "        fd = []\n",
    "        ct = 0\n",
    "        for func in ob['function_list']:\n",
    "            fn = i.function_list[ct].__dict__\n",
    "            ct = ct + 1\n",
    "            fd.append(fn)\n",
    "        d[\"function_details\"] = fd\n",
    "        if(len(d['usertype']) == 2):\n",
    "            d['usertype'] = 'us'\n",
    "        item = json.dumps(d, ensure_ascii=False)\n",
    "        #print(jsonob)\n",
    "        try:\n",
    "            if cnt < lenn:\n",
    "                file_handler.write(\"{},\\n\".format(item))\n",
    "            else:\n",
    "                file_handler.write(\"{}\\n\".format(item))\n",
    "        except:\n",
    "            print(len(d['usertype']))\n",
    "            exit(-1)\n",
    "    file_handler.write(\"]\")  \n"
   ]
  },
  {
   "cell_type": "code",
   "execution_count": 3,
   "metadata": {},
   "outputs": [
    {
     "data": {
      "text/plain": [
       "'#define f'"
      ]
     },
     "execution_count": 3,
     "metadata": {},
     "output_type": "execute_result"
    }
   ],
   "source": [
    "f[26:35]"
   ]
  },
  {
   "cell_type": "code",
   "execution_count": null,
   "metadata": {},
   "outputs": [],
   "source": []
  }
 ],
 "metadata": {
  "kernelspec": {
   "display_name": "Python 3",
   "language": "python",
   "name": "python3"
  },
  "language_info": {
   "codemirror_mode": {
    "name": "ipython",
    "version": 3
   },
   "file_extension": ".py",
   "mimetype": "text/x-python",
   "name": "python",
   "nbconvert_exporter": "python",
   "pygments_lexer": "ipython3",
   "version": "3.6.5"
  }
 },
 "nbformat": 4,
 "nbformat_minor": 2
}
