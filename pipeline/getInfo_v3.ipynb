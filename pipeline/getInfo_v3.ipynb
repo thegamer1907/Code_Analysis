{
 "cells": [
  {
   "cell_type": "code",
   "execution_count": 1,
   "metadata": {},
   "outputs": [],
   "source": [
    "import glob\n",
    "import lizard\n",
    "import json\n",
    "import csv\n",
    "import os\n",
    "import re\n",
    "import pickle\n",
    "from os import path\n",
    "from prep_for_headers import prep\n",
    "from prep_for_headers import prep_for_macros\n",
    "from getusefullheaders import find_all_used_header \n",
    "from comment_remover import comment_remover"
   ]
  },
  {
   "cell_type": "code",
   "execution_count": 4,
   "metadata": {},
   "outputs": [
    {
     "name": "stdout",
     "output_type": "stream",
     "text": [
      "1 1.cpp\n",
      "2 2.cpp\n",
      "3 3.cpp\n"
     ]
    }
   ],
   "source": [
    "cnt = 0\n",
    "lenn = 0\n",
    "pickle_list = []\n",
    "lenlol = []\n",
    "\n",
    "while True:\n",
    "    try:\n",
    "        try:\n",
    "            with open('pickle_list.pkl', 'rb') as f:\n",
    "                pickle_list = pickle.load(f)\n",
    "                cnt = len(pickle_list)\n",
    "        except:\n",
    "            pass\n",
    "\n",
    "        for file in glob.glob(\"*.cpp\"):\n",
    "            lenn = lenn + 1\n",
    "        if lenn == len(pickle_list):\n",
    "            break\n",
    "        if len(pickle_list) > 0:\n",
    "            mode = 'a'\n",
    "        else:\n",
    "            mode = 'w'\n",
    "        with open(\"out.json\",mode) as file_handler:\n",
    "            if len(pickle_list) == 0:\n",
    "                file_handler.write(\"[\")\n",
    "            ct = 1\n",
    "            for file in glob.glob(\"*.cpp\"):\n",
    "                if file in pickle_list:\n",
    "                    continue\n",
    "                cnt = cnt + 1\n",
    "                print(cnt, file)\n",
    "                i = lizard.analyze_file(file)\n",
    "                ob = i.__dict__\n",
    "                if len(ob['function_list']) == 0:\n",
    "                    continue\n",
    "                #print (i.function_list[0].__dict__)\n",
    "                json_data=open('./' + file.partition(\".\")[0] + '.json')\n",
    "                data = json.load(json_data)\n",
    "                json_data.close()\n",
    "                d = {}\n",
    "                d[\"filename\"] = ob['filename']\n",
    "                d[\"nloc\"] = ob['nloc']\n",
    "                d[\"token_count\"] = ob['token_count']\n",
    "                d[\"problem\"] = data['problemlink']\n",
    "                d[\"solution\"] = data['sollink']\n",
    "                d[\"exec_time\"] = ' '.join(data['exec_time'].split())\n",
    "                d[\"memory\"] = ' '.join(data['memory'].split())\n",
    "                d[\"usertype\"] = data[\"usertype\"]\n",
    "\n",
    "                d[\"function_count\"] = len(ob['function_list'])\n",
    "                c = 0\n",
    "                mc = 0\n",
    "                used_headers = 0\n",
    "                used_macros = 0;\n",
    "                with open(file, 'r') as f:\n",
    "                    #f.sub('//.*?\\n|/\\*.*?\\*/', '', text, flags=re.S)\n",
    "                    #print(f.read())\n",
    "                    f = comment_remover(f.read())\n",
    "\n",
    "                    header_list = prep(f)\n",
    "                    #print(header_list)\n",
    "                    macro_list = prep_for_macros(f)\n",
    "                    x = find_all_used_header(f,header_list[0],header_list[1])\n",
    "                    #print(x)\n",
    "                    if len(macro_list[0]) > 0:\n",
    "                        #print(macro_list[0])\n",
    "                        #print(macro_list[1])\n",
    "                        macrox = find_all_used_header(f,macro_list[0],macro_list[1])\n",
    "                        #print(macrox)\n",
    "                        for key, val in macrox.items():\n",
    "                            if val == 1:\n",
    "                                used_macros += 1\n",
    "\n",
    "                    for key, val in x.items():\n",
    "                        if val == 1:\n",
    "                            used_headers += 1\n",
    "\n",
    "                    for line in f.split('\\n'):\n",
    "                        #line = line.strip()\n",
    "                        if '#include' in line:\n",
    "                            #print(line)\n",
    "                            c+=1\n",
    "                        if '#define' in line or 'typedef' in line:\n",
    "                            #print(line)\n",
    "                            mc+=1\n",
    "                #Take c value here\n",
    "                d[\"library_count\"] = c\n",
    "                d[\"used_headers\"] = used_headers\n",
    "                #print(mc)\n",
    "                d[\"macro_count\"] = mc\n",
    "                d[\"used_macros\"] = used_macros\n",
    "                c = 0\n",
    "                fd = []\n",
    "                ct = 0\n",
    "                for func in ob['function_list']:\n",
    "                    fn = i.function_list[ct].__dict__\n",
    "                    ct = ct + 1\n",
    "                    fd.append(fn)\n",
    "                d[\"function_details\"] = fd\n",
    "                if(len(d['usertype']) == 2):\n",
    "                    d['usertype'] = 'us'\n",
    "                item = json.dumps(d, ensure_ascii=False)\n",
    "                #print(jsonob)\n",
    "                try:\n",
    "                    if cnt < lenn:\n",
    "                        file_handler.write(\"{},\\n\".format(item))\n",
    "                    else:\n",
    "                        file_handler.write(\"{}\\n\".format(item))\n",
    "                except:\n",
    "                    print(len(d['usertype']))\n",
    "                    exit(-1)\n",
    "                pickle_list.append(file)\n",
    "            file_handler.write(\"]\") \n",
    "            with open('pickle_list.pkl', 'wb') as f:\n",
    "                pickle.dump(pickle_list, f)\n",
    "            break\n",
    "    except Exception as e:\n",
    "        pickle_list.append(file)\n",
    "        if str(e) == 'len(headers) != len(positions but expected to be of same length':\n",
    "            lenlol.append(file)\n",
    "        with open('pickle_list.pkl', 'wb') as f:\n",
    "            pickle.dump(pickle_list, f)\n"
   ]
  },
  {
   "cell_type": "code",
   "execution_count": 3,
   "metadata": {},
   "outputs": [
    {
     "data": {
      "text/plain": [
       "'#define f'"
      ]
     },
     "execution_count": 3,
     "metadata": {},
     "output_type": "execute_result"
    }
   ],
   "source": [
    "f[26:35]"
   ]
  },
  {
   "cell_type": "code",
   "execution_count": 6,
   "metadata": {},
   "outputs": [
    {
     "data": {
      "text/plain": [
       "'2072.cpp'"
      ]
     },
     "execution_count": 6,
     "metadata": {},
     "output_type": "execute_result"
    }
   ],
   "source": [
    "file"
   ]
  },
  {
   "cell_type": "code",
   "execution_count": 3,
   "metadata": {},
   "outputs": [
    {
     "data": {
      "text/plain": [
       "['1542574036.cpp',\n",
       " '1542577060.cpp',\n",
       " '1542578670.cpp',\n",
       " '1542578762.cpp',\n",
       " '1542578872.cpp',\n",
       " '1542580978.cpp',\n",
       " '1542584292.cpp',\n",
       " '1542587500.cpp',\n",
       " '1542588089.cpp',\n",
       " '1542589932.cpp',\n",
       " '1542592484.cpp',\n",
       " '1542593239.cpp',\n",
       " '1542594570.cpp']"
      ]
     },
     "execution_count": 3,
     "metadata": {},
     "output_type": "execute_result"
    }
   ],
   "source": [
    "lenlol"
   ]
  },
  {
   "cell_type": "code",
   "execution_count": null,
   "metadata": {},
   "outputs": [],
   "source": []
  }
 ],
 "metadata": {
  "kernelspec": {
   "display_name": "Python 3",
   "language": "python",
   "name": "python3"
  },
  "language_info": {
   "codemirror_mode": {
    "name": "ipython",
    "version": 3
   },
   "file_extension": ".py",
   "mimetype": "text/x-python",
   "name": "python",
   "nbconvert_exporter": "python",
   "pygments_lexer": "ipython3",
   "version": "3.7.3"
  }
 },
 "nbformat": 4,
 "nbformat_minor": 2
}
