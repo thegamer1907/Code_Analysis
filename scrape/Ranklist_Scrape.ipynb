{
 "cells": [
  {
   "cell_type": "code",
   "execution_count": 1,
   "metadata": {},
   "outputs": [],
   "source": [
    "import requests\n",
    "from bs4 import BeautifulSoup\n",
    "import os\n",
    "import json\n",
    "\n",
    "rank = {}"
   ]
  },
  {
   "cell_type": "code",
   "execution_count": 2,
   "metadata": {},
   "outputs": [],
   "source": [
    "def html(url):\n",
    "    page = requests.get(url)\n",
    "    soup = BeautifulSoup(page.content,'html.parser')\n",
    "    return soup\n"
   ]
  },
  {
   "cell_type": "code",
   "execution_count": 4,
   "metadata": {},
   "outputs": [
    {
     "name": "stdout",
     "output_type": "stream",
     "text": [
      "1\n",
      "2\n",
      "3\n",
      "4\n",
      "5\n",
      "6\n",
      "7\n",
      "8\n",
      "9\n",
      "10\n",
      "11\n",
      "12\n",
      "13\n",
      "14\n"
     ]
    }
   ],
   "source": [
    "for j in range(1,15):\n",
    "    url = 'https://codeforces.com/contest/868/standings/page/' + str(j)\n",
    "    soup = html(url)\n",
    "    table = soup.findAll('table')[0]\n",
    "    tr = table.findAll('tr')\n",
    "    tr.pop(0)\n",
    "    del tr[-1]\n",
    "    for i in tr:\n",
    "        td = i.findAll('td')\n",
    "        no = td[0].text.strip()\n",
    "        name = td[1].text.strip()\n",
    "        try:\n",
    "            tp = td[4].findAll('span')[1]\n",
    "            atime = tp.text.strip()\n",
    "        except:\n",
    "            atime = -1\n",
    "        try:\n",
    "            tp = td[5].findAll('span')[1]\n",
    "            btime = tp.text.strip()\n",
    "        except:\n",
    "            btime = -1\n",
    "        rank[name] = [no,atime,btime]\n",
    "    print(j)"
   ]
  },
  {
   "cell_type": "code",
   "execution_count": 5,
   "metadata": {},
   "outputs": [],
   "source": [
    "g = open('ranklist.json',\"w\")\n",
    "json.dump(rank,g)\n",
    "g.close()"
   ]
  },
  {
   "cell_type": "code",
   "execution_count": null,
   "metadata": {},
   "outputs": [],
   "source": []
  }
 ],
 "metadata": {
  "kernelspec": {
   "display_name": "Python 3",
   "language": "python",
   "name": "python3"
  },
  "language_info": {
   "codemirror_mode": {
    "name": "ipython",
    "version": 3
   },
   "file_extension": ".py",
   "mimetype": "text/x-python",
   "name": "python",
   "nbconvert_exporter": "python",
   "pygments_lexer": "ipython3",
   "version": "3.6.5"
  }
 },
 "nbformat": 4,
 "nbformat_minor": 2
}
