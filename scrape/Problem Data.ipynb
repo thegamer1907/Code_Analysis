{
 "cells": [
  {
   "cell_type": "code",
   "execution_count": 9,
   "metadata": {},
   "outputs": [
    {
     "data": {
      "text/plain": [
       "['https://www.codeforces.com/contest/743/problem/B',\n",
       " 'https://www.codeforces.com/contest/279/problem/B',\n",
       " 'https://www.codeforces.com/contest/812/problem/C',\n",
       " 'https://www.codeforces.com/contest/991/problem/C',\n",
       " 'https://www.codeforces.com/contest/755/problem/B',\n",
       " 'https://www.codeforces.com/contest/779/problem/D',\n",
       " 'https://www.codeforces.com/contest/660/problem/C',\n",
       " 'https://www.codeforces.com/contest/385/problem/C',\n",
       " 'https://www.codeforces.com/contest/777/problem/D',\n",
       " 'https://www.codeforces.com/contest/732/problem/D',\n",
       " 'https://www.codeforces.com/contest/231/problem/C',\n",
       " 'https://www.codeforces.com/contest/996/problem/B',\n",
       " 'https://www.codeforces.com/contest/1042/problem/A',\n",
       " 'https://www.codeforces.com/contest/348/problem/A',\n",
       " 'https://www.codeforces.com/contest/165/problem/C',\n",
       " 'https://www.codeforces.com/contest/689/problem/C',\n",
       " 'https://www.codeforces.com/contest/372/problem/A',\n",
       " 'https://www.codeforces.com/contest/492/problem/B',\n",
       " 'https://www.codeforces.com/contest/975/problem/C',\n",
       " 'https://www.codeforces.com/contest/371/problem/C']"
      ]
     },
     "execution_count": 9,
     "metadata": {},
     "output_type": "execute_result"
    }
   ],
   "source": [
    "import os\n",
    "import json\n",
    "\n",
    "l = []\n",
    "\n",
    "for root, dirs, files in os.walk(\"E:\\Codes\\Code Analysis\\CodesNew\"):  \n",
    "    for filename in files:\n",
    "        y = filename[:]\n",
    "        if filename.split('.')[1] == 'json':\n",
    "            h = open(\"E:\\\\Codes\\\\Code Analysis\\\\CodesNew\\\\\" + y)\n",
    "            tp = json.load(h)\n",
    "            l.append(tp[\"problemlink\"])\n",
    "            h.close()\n",
    "l = set(l)\n",
    "l = list(l)\n",
    "l"
   ]
  },
  {
   "cell_type": "code",
   "execution_count": null,
   "metadata": {},
   "outputs": [],
   "source": []
  },
  {
   "cell_type": "code",
   "execution_count": null,
   "metadata": {},
   "outputs": [],
   "source": []
  }
 ],
 "metadata": {
  "kernelspec": {
   "display_name": "Python 3",
   "language": "python",
   "name": "python3"
  },
  "language_info": {
   "codemirror_mode": {
    "name": "ipython",
    "version": 3
   },
   "file_extension": ".py",
   "mimetype": "text/x-python",
   "name": "python",
   "nbconvert_exporter": "python",
   "pygments_lexer": "ipython3",
   "version": "3.6.5"
  }
 },
 "nbformat": 4,
 "nbformat_minor": 2
}
